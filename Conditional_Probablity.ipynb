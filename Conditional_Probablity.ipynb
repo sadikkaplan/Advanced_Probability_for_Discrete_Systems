{
  "nbformat": 4,
  "nbformat_minor": 0,
  "metadata": {
    "colab": {
      "name": "Conditional_Probablity.ipynb",
      "provenance": [],
      "collapsed_sections": [],
      "authorship_tag": "ABX9TyMezJUzTv0yQQU1sjtIIrgz",
      "include_colab_link": true
    },
    "kernelspec": {
      "name": "python3",
      "display_name": "Python 3"
    },
    "language_info": {
      "name": "python"
    }
  },
  "cells": [
    {
      "cell_type": "markdown",
      "metadata": {
        "id": "view-in-github",
        "colab_type": "text"
      },
      "source": [
        "<a href=\"https://colab.research.google.com/github/sadikkaplan/Advanced_Probability_for_Discrete_Systems/blob/main/Conditional_Probablity.ipynb\" target=\"_parent\"><img src=\"https://colab.research.google.com/assets/colab-badge.svg\" alt=\"Open In Colab\"/></a>"
      ]
    },
    {
      "cell_type": "markdown",
      "metadata": {
        "id": "SU5sMx6-WKuq"
      },
      "source": [
        "***Problem***: 4 madeni para birlikte havaya atılıyor. En çok üçünün yazı geldiği bilindiğine göre üçünün tura birinin yazı gelme olasılığı kaçtır?\n",
        "\n",
        "**Durum A:** Üçünün tura birinin yazı gelme olasılığı\n",
        "\n",
        "**Durum B:** En çok üçünün yazı gelme olasılığı\n",
        "\n",
        "Koşullu olasılık formulü aşağıdaki gibidir.\n",
        "\n",
        "*P(A|B) = P(A∩B) / P(B)*\n",
        "\n",
        "P(B)= (Tüm Durum) - (Hepsinin Tura Gelme Olasılığı)\n",
        "\n",
        "P(B)= 1-C(4,4)/2^4\n",
        "\n",
        "P(A∩B) = C(4,3)/2^4\n"
      ]
    },
    {
      "cell_type": "code",
      "metadata": {
        "id": "bOdNBZ4maZIz"
      },
      "source": [
        ""
      ],
      "execution_count": null,
      "outputs": []
    },
    {
      "cell_type": "code",
      "metadata": {
        "id": "_2l7inIdY9vV"
      },
      "source": [
        "import operator\n",
        "from functools import reduce\n",
        "\n",
        "def kombinasyon(n, r):\n",
        "    r = min(r, n-r)\n",
        "    numer = reduce(operator.mul, range(n, n-r, -1), 1)\n",
        "    denom = reduce(operator.mul, range(1, r+1), 1)\n",
        "    return numer"
      ],
      "execution_count": 11,
      "outputs": []
    },
    {
      "cell_type": "code",
      "metadata": {
        "id": "6awaT6OVWyoI"
      },
      "source": [
        "OlasilikB = 1 - (kombinasyon(4,4) / pow(2,4));\n",
        "AkesisimB = kombinasyon(4,3) / pow(2,4);\n"
      ],
      "execution_count": 12,
      "outputs": []
    },
    {
      "cell_type": "code",
      "metadata": {
        "colab": {
          "base_uri": "https://localhost:8080/"
        },
        "id": "T1v3bWDAZRjH",
        "outputId": "86c80cd1-7f01-4101-e4ac-6014648134ee"
      },
      "source": [
        "print(\"P_B: \" + str(P_B));\n",
        "print(\"AkesisimB: \" + str(AkesisimB));"
      ],
      "execution_count": 13,
      "outputs": [
        {
          "output_type": "stream",
          "text": [
            "P_B: 0.9375\n",
            "AkesisimB: 0.25\n"
          ],
          "name": "stdout"
        }
      ]
    },
    {
      "cell_type": "code",
      "metadata": {
        "id": "GkT2Kq64ZVWz"
      },
      "source": [
        "def kosulluOlasilik(intersection, contitional):\n",
        "  return intersection / contitional"
      ],
      "execution_count": 14,
      "outputs": []
    },
    {
      "cell_type": "code",
      "metadata": {
        "colab": {
          "base_uri": "https://localhost:8080/"
        },
        "id": "XtU8I7yjZWIA",
        "outputId": "bea9286f-9d0d-437c-e25b-8d97619ecadb"
      },
      "source": [
        "conditionalProbability(AkesisimB, OlasilikB)\n"
      ],
      "execution_count": 15,
      "outputs": [
        {
          "output_type": "execute_result",
          "data": {
            "text/plain": [
              "0.26666666666666666"
            ]
          },
          "metadata": {
            "tags": []
          },
          "execution_count": 15
        }
      ]
    }
  ]
}
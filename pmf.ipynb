{
  "nbformat": 4,
  "nbformat_minor": 0,
  "metadata": {
    "colab": {
      "name": "pmf.ipynb",
      "provenance": [],
      "collapsed_sections": [],
      "authorship_tag": "ABX9TyPXRigJ4WtLsy4fMFqAXRxX",
      "include_colab_link": true
    },
    "kernelspec": {
      "name": "python3",
      "display_name": "Python 3"
    },
    "language_info": {
      "name": "python"
    }
  },
  "cells": [
    {
      "cell_type": "markdown",
      "metadata": {
        "id": "view-in-github",
        "colab_type": "text"
      },
      "source": [
        "<a href=\"https://colab.research.google.com/github/sadikkaplan/Advanced_Probability_for_Discrete_Systems/blob/main/pmf.ipynb\" target=\"_parent\"><img src=\"https://colab.research.google.com/assets/colab-badge.svg\" alt=\"Open In Colab\"/></a>"
      ]
    },
    {
      "cell_type": "markdown",
      "metadata": {
        "id": "mZiHxv-rpBfF"
      },
      "source": [
        "Hilesiz bir bozuk para iki kez atılıyor ve X'in gözlemlenilen tura sayısı olarak tanımlanmasına izin veriyorum. X, Rx aralığını ve olasılık kütle fonksiyonu Px'i bulunuz.\n",
        "Burada örnek uzayımız; S = {YY, TT, YT, TY}\n",
        "Tura sayısı 0, 1 veya 2 olacaktır. \n",
        "Dolayısıyla -> Rx = {0,1,2}. \n",
        "\n",
        "=> Px (0) = P (X = 0) = P (TT) = 1/4,\n",
        " Px (1) = P (X = 1) = P ({TY, YT}) = 1/4 + 1/4 = 1/2, \n",
        " Px (2) = P (X = 2) = P (YY) = 1/4"
      ]
    },
    {
      "cell_type": "code",
      "metadata": {
        "id": "vdMWGv7RppxL"
      },
      "source": [
        "import matplotlib.pyplot as plt"
      ],
      "execution_count": 11,
      "outputs": []
    },
    {
      "cell_type": "code",
      "metadata": {
        "colab": {
          "base_uri": "https://localhost:8080/",
          "height": 295
        },
        "id": "GNmUvyVrptIr",
        "outputId": "a409e936-8113-4b50-934b-26cfe23cdfb2"
      },
      "source": [
        "x1 = [0, 1, 2]\n",
        "y1 = [0.25, 0.5, 0.25]\n",
        "\n",
        "plt.bar(x1, y1, label=\"Px\", color='r')\n",
        "plt.plot()\n",
        "\n",
        "plt.xlabel(\"possible\")\n",
        "plt.ylabel(\"possibility\")\n",
        "plt.title(\"PMF\")\n",
        "plt.legend()\n",
        "plt.show()"
      ],
      "execution_count": 18,
      "outputs": [
        {
          "output_type": "display_data",
          "data": {
            "image/png": "[encoded data removed]",
            "text/plain": [
              "<Figure size 432x288 with 1 Axes>"
            ]
          },
          "metadata": {
            "tags": [],
            "needs_background": "light"
          }
        }
      ]
    }
  ]
}
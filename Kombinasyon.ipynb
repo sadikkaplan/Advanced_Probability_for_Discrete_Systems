{
  "nbformat": 4,
  "nbformat_minor": 0,
  "metadata": {
    "colab": {
      "name": "Kombinasyon.ipynb",
      "provenance": [],
      "collapsed_sections": [],
      "authorship_tag": "ABX9TyMjBjVZZsIW6lho5E1GPLNv",
      "include_colab_link": true
    },
    "kernelspec": {
      "name": "python3",
      "display_name": "Python 3"
    },
    "language_info": {
      "name": "python"
    }
  },
  "cells": [
    {
      "cell_type": "markdown",
      "metadata": {
        "id": "view-in-github",
        "colab_type": "text"
      },
      "source": [
        "<a href=\"https://colab.research.google.com/github/sadikkaplan/Advanced_Probability_for_Discrete_Systems/blob/main/Kombinasyon.ipynb\" target=\"_parent\"><img src=\"https://colab.research.google.com/assets/colab-badge.svg\" alt=\"Open In Colab\"/></a>"
      ]
    },
    {
      "cell_type": "markdown",
      "metadata": {
        "id": "XupcCeuofzwc"
      },
      "source": [
        "9 kişilik bir gruptan biri 4, biri 3 ve biri 2 kişilik 3 grup kaç farklı şekilde oluşturubilir?"
      ]
    },
    {
      "cell_type": "code",
      "metadata": {
        "id": "FnSHgYCwgDkP"
      },
      "source": [
        "import operator\n",
        "from functools import reduce\n"
      ],
      "execution_count": 2,
      "outputs": []
    },
    {
      "cell_type": "code",
      "metadata": {
        "id": "1yi8ij_VgdYP"
      },
      "source": [
        "def kombinasyon(n, r):\n",
        "    r = min(r, n-r)\n",
        "    numer = reduce(operator.mul, range(n, n-r, -1), 1)\n",
        "    denom = reduce(operator.mul, range(1, r+1), 1)\n",
        "    return numer"
      ],
      "execution_count": 3,
      "outputs": []
    },
    {
      "cell_type": "code",
      "metadata": {
        "id": "1ynaAUHnglC2"
      },
      "source": [
        "P= kombinasyon(9,4) * kombinasyon(5,3) * kombinasyon(2,2)"
      ],
      "execution_count": 7,
      "outputs": []
    },
    {
      "cell_type": "code",
      "metadata": {
        "colab": {
          "base_uri": "https://localhost:8080/"
        },
        "id": "bRXO0_8Ig54m",
        "outputId": "f6dcd0b5-d089-424b-ff13-b30d311df83a"
      },
      "source": [
        "print(\"Cevap=\",P)"
      ],
      "execution_count": 9,
      "outputs": [
        {
          "output_type": "stream",
          "text": [
            "Cevap= 60480\n"
          ],
          "name": "stdout"
        }
      ]
    }
  ]
}
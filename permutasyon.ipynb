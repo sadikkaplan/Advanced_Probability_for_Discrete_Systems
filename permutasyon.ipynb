{
  "nbformat": 4,
  "nbformat_minor": 0,
  "metadata": {
    "colab": {
      "name": "permutasyon.ipynb",
      "provenance": [],
      "collapsed_sections": [],
      "authorship_tag": "ABX9TyOHqDaL7A9yaHqYLirJVGWg",
      "include_colab_link": true
    },
    "kernelspec": {
      "name": "python3",
      "display_name": "Python 3"
    },
    "language_info": {
      "name": "python"
    }
  },
  "cells": [
    {
      "cell_type": "markdown",
      "metadata": {
        "id": "view-in-github",
        "colab_type": "text"
      },
      "source": [
        "<a href=\"https://colab.research.google.com/github/sadikkaplan/Advanced_Probability_for_Discrete_Systems/blob/main/permutasyon.ipynb\" target=\"_parent\"><img src=\"https://colab.research.google.com/assets/colab-badge.svg\" alt=\"Open In Colab\"/></a>"
      ]
    },
    {
      "cell_type": "code",
      "metadata": {
        "id": "d2_g06c5hkuh"
      },
      "source": [
        "7 aday arasından bir başkan, bir sayman ve bir sekreter kaç şekilde seçilebilir ?"
      ],
      "execution_count": null,
      "outputs": []
    },
    {
      "cell_type": "code",
      "metadata": {
        "id": "ycoWaWRfioGC"
      },
      "source": [
        "\n",
        "def faktoriyel(n):\n",
        "    fakt = 1\n",
        "    for sayi in range(2, n + 1):\n",
        "        fakt *= sayi\n",
        "    return fakt"
      ],
      "execution_count": 7,
      "outputs": []
    },
    {
      "cell_type": "code",
      "metadata": {
        "id": "V-WHZIAqi_w7"
      },
      "source": [
        "def permutasyon (n,r):\n",
        "    return faktoriyel(n) / faktoriyel(n-r)"
      ],
      "execution_count": 8,
      "outputs": []
    },
    {
      "cell_type": "code",
      "metadata": {
        "id": "8cyJWvtPjB2H"
      },
      "source": [
        "P = permutasyon(7,3)\n"
      ],
      "execution_count": 9,
      "outputs": []
    },
    {
      "cell_type": "code",
      "metadata": {
        "colab": {
          "base_uri": "https://localhost:8080/"
        },
        "id": "xnvsbO-Bj0oo",
        "outputId": "a55005b0-1b22-49d0-ff45-050521878424"
      },
      "source": [
        "print(\"permutasyon: \" + str(P))\n"
      ],
      "execution_count": 10,
      "outputs": [
        {
          "output_type": "stream",
          "text": [
            "permutasyon: 210.0\n"
          ],
          "name": "stdout"
        }
      ]
    }
  ]
}
